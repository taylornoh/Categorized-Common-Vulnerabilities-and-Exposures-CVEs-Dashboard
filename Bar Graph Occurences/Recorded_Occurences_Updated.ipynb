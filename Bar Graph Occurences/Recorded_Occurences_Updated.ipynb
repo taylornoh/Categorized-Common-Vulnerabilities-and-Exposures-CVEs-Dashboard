{
 "cells": [
  {
   "cell_type": "markdown",
   "id": "156d77a1-dcab-4cfd-b685-f0a6b99daec6",
   "metadata": {},
   "source": [
    "# Amount of occurences per type of vulnerability "
   ]
  },
  {
   "cell_type": "code",
   "execution_count": 12,
   "id": "127bec7f-0489-4baf-b266-360b1466a9bf",
   "metadata": {},
   "outputs": [],
   "source": [
    "# Import Libraries necessary\n",
    "import pandas as pd\n",
    "import numpy as np\n",
    "import matplotlib.pyplot as plt\n",
    "import seaborn as sns\n",
    "import csv"
   ]
  },
  {
   "cell_type": "code",
   "execution_count": 13,
   "id": "0bd96853-b6d4-4b2d-917a-115230bb362e",
   "metadata": {},
   "outputs": [],
   "source": [
    "# Reading .csv file initially provided\n",
    "# df = pd.read_csv('known_exploited_vulnerabilities.csv')\n",
    "df = pd.read_csv('https://www.cisa.gov/sites/default/files/csv/known_exploited_vulnerabilities.csv')"
   ]
  },
  {
   "cell_type": "code",
   "execution_count": 14,
   "id": "3ffdb64a-0389-4166-9c69-1be7f2fc64d1",
   "metadata": {},
   "outputs": [],
   "source": [
    "# Only keeping product column to classify occurrences\n",
    "df = df['product']"
   ]
  },
  {
   "cell_type": "code",
   "execution_count": 15,
   "id": "b97e3153-5ff7-4aa5-9d34-bf3e295ab490",
   "metadata": {},
   "outputs": [
    {
     "data": {
      "text/plain": [
       "0                      FTA\n",
       "1                      FTA\n",
       "2                      FTA\n",
       "3                      FTA\n",
       "4       Acrobat and Reader\n",
       "               ...        \n",
       "1015        IOS and IOS XE\n",
       "1016    Skype for Business\n",
       "1017               WordPad\n",
       "1018                HTTP/2\n",
       "1019         IOS XE Web UI\n",
       "Name: product, Length: 1020, dtype: object"
      ]
     },
     "execution_count": 15,
     "metadata": {},
     "output_type": "execute_result"
    }
   ],
   "source": [
    "# Save selected column to filter out data and create a new csv file\n",
    "df.to_csv('C:/Users/nikol/OneDrive/Desktop/Coding for Classes/CPSC 454/Bar Graph Occurences/filtered_Data.csv', index=False)\n",
    "\n",
    "df"
   ]
  },
  {
   "cell_type": "code",
   "execution_count": 16,
   "id": "18375a05-49e1-4293-a069-5df881bfc696",
   "metadata": {},
   "outputs": [],
   "source": [
    "# First count the instances of each product\n",
    "data = pd.read_csv('filtered_Data.csv')\n",
    "company = data['product'].tolist()\n",
    "\n",
    "d = dict()\n",
    "\n",
    "for line in data: \n",
    "    \n",
    "    for word in company:\n",
    "        if word in d:\n",
    "            d[word] = d[word] + 1\n",
    "        else: \n",
    "            d[word] = 1\n",
    "\n",
    "# Converting the column data into a list\n",
    "with open('filtered_Data.csv', 'w', newline='') as file:\n",
    "    writer = csv.writer(file)\n",
    "\n",
    "    writer.writerow([\"Product\", \"Number of Occurrences\"])\n",
    "    for key in list(d.keys()):\n",
    "        writer.writerow([key, int(d[key])])\n",
    "\n",
    "file.close()"
   ]
  },
  {
   "cell_type": "markdown",
   "id": "666507f9-e29d-4598-b1d5-ff0176b065ab",
   "metadata": {},
   "source": [
    "## Visualization of selected data"
   ]
  },
  {
   "cell_type": "code",
   "execution_count": 17,
   "id": "108ee989-05ac-4afa-a51a-f907cae0d5cd",
   "metadata": {},
   "outputs": [
    {
     "data": {
      "text/html": [
       "<div>\n",
       "<style scoped>\n",
       "    .dataframe tbody tr th:only-of-type {\n",
       "        vertical-align: middle;\n",
       "    }\n",
       "\n",
       "    .dataframe tbody tr th {\n",
       "        vertical-align: top;\n",
       "    }\n",
       "\n",
       "    .dataframe thead th {\n",
       "        text-align: right;\n",
       "    }\n",
       "</style>\n",
       "<table border=\"1\" class=\"dataframe\">\n",
       "  <thead>\n",
       "    <tr style=\"text-align: right;\">\n",
       "      <th></th>\n",
       "      <th>Product</th>\n",
       "      <th>Number of Occurrences</th>\n",
       "    </tr>\n",
       "  </thead>\n",
       "  <tbody>\n",
       "    <tr>\n",
       "      <th>0</th>\n",
       "      <td>FTA</td>\n",
       "      <td>4</td>\n",
       "    </tr>\n",
       "    <tr>\n",
       "      <th>1</th>\n",
       "      <td>Acrobat and Reader</td>\n",
       "      <td>13</td>\n",
       "    </tr>\n",
       "    <tr>\n",
       "      <th>2</th>\n",
       "      <td>ColdFusion</td>\n",
       "      <td>11</td>\n",
       "    </tr>\n",
       "    <tr>\n",
       "      <th>3</th>\n",
       "      <td>Flash Player</td>\n",
       "      <td>29</td>\n",
       "    </tr>\n",
       "    <tr>\n",
       "      <th>4</th>\n",
       "      <td>Cameras and Network Video Recorder (NVR)</td>\n",
       "      <td>1</td>\n",
       "    </tr>\n",
       "    <tr>\n",
       "      <th>...</th>\n",
       "      <td>...</td>\n",
       "      <td>...</td>\n",
       "    </tr>\n",
       "    <tr>\n",
       "      <th>405</th>\n",
       "      <td>WS_FTP Server</td>\n",
       "      <td>1</td>\n",
       "    </tr>\n",
       "    <tr>\n",
       "      <th>406</th>\n",
       "      <td>Skype for Business</td>\n",
       "      <td>1</td>\n",
       "    </tr>\n",
       "    <tr>\n",
       "      <th>407</th>\n",
       "      <td>WordPad</td>\n",
       "      <td>1</td>\n",
       "    </tr>\n",
       "    <tr>\n",
       "      <th>408</th>\n",
       "      <td>HTTP/2</td>\n",
       "      <td>1</td>\n",
       "    </tr>\n",
       "    <tr>\n",
       "      <th>409</th>\n",
       "      <td>IOS XE Web UI</td>\n",
       "      <td>1</td>\n",
       "    </tr>\n",
       "  </tbody>\n",
       "</table>\n",
       "<p>410 rows × 2 columns</p>\n",
       "</div>"
      ],
      "text/plain": [
       "                                      Product  Number of Occurrences\n",
       "0                                         FTA                      4\n",
       "1                          Acrobat and Reader                     13\n",
       "2                                  ColdFusion                     11\n",
       "3                                Flash Player                     29\n",
       "4    Cameras and Network Video Recorder (NVR)                      1\n",
       "..                                        ...                    ...\n",
       "405                             WS_FTP Server                      1\n",
       "406                        Skype for Business                      1\n",
       "407                                   WordPad                      1\n",
       "408                                    HTTP/2                      1\n",
       "409                             IOS XE Web UI                      1\n",
       "\n",
       "[410 rows x 2 columns]"
      ]
     },
     "execution_count": 17,
     "metadata": {},
     "output_type": "execute_result"
    }
   ],
   "source": [
    "data = pd.read_csv('filtered_Data.csv')\n",
    "\n",
    "X = list(data.iloc[:, 0])\n",
    "Y = list(data.iloc[:, 1])\n",
    "\n",
    "data"
   ]
  },
  {
   "cell_type": "code",
   "execution_count": null,
   "id": "795d4791-2cb4-4b07-a7a0-7f6106e52d43",
   "metadata": {},
   "outputs": [],
   "source": []
  }
 ],
 "metadata": {
  "kernelspec": {
   "display_name": "Python 3 (ipykernel)",
   "language": "python",
   "name": "python3"
  },
  "language_info": {
   "codemirror_mode": {
    "name": "ipython",
    "version": 3
   },
   "file_extension": ".py",
   "mimetype": "text/x-python",
   "name": "python",
   "nbconvert_exporter": "python",
   "pygments_lexer": "ipython3",
   "version": "3.11.5"
  }
 },
 "nbformat": 4,
 "nbformat_minor": 5
}
